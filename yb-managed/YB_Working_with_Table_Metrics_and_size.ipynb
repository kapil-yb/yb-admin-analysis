{
  "nbformat": 4,
  "nbformat_minor": 0,
  "metadata": {
    "colab": {
      "provenance": [],
      "collapsed_sections": []
    },
    "kernelspec": {
      "name": "python3",
      "display_name": "Python 3"
    },
    "language_info": {
      "name": "python"
    }
  },
  "cells": [
    {
      "cell_type": "code",
      "source": [
        "import requests\n",
        "import json\n",
        "import pandas as pd\n",
        "from datetime import datetime, tzinfo\n",
        "import pytz\n",
        "\n",
        "account_id = \" << Replace with Account ID >>\"\n",
        "api_token_code=\"<< Replace with Token ID >>\"\n",
        "\n",
        "url = \"https://cloud.yugabyte.com/api/public/v1/accounts/\"+account_id+\"/projects\"\n",
        "\n",
        "headers = {\n",
        "    \"Content-Type\": \"application/json\",\n",
        "    \"Authorization\": \"Bearer \"+ api_token_code\n",
        "    }\n",
        "\n",
        "response = requests.request(\"GET\", url, headers=headers)"
      ],
      "metadata": {
        "id": "Vs1x57PqsUvp"
      },
      "execution_count": 31,
      "outputs": []
    },
    {
      "cell_type": "code",
      "source": [
        "project_info = json.loads(response.text)\n",
        "project_id=project_info['data'][0]['id']\n",
        "#print (\"Project ID: \" + project_id)"
      ],
      "metadata": {
        "id": "w61JxNBxt70m"
      },
      "execution_count": 32,
      "outputs": []
    },
    {
      "cell_type": "code",
      "source": [
        "url = \"https://cloud.yugabyte.com/api/public/v1/accounts/\"+account_id+\"/projects/\"+project_id+\"/clusters\"\n",
        "\n",
        "response = requests.request(\"GET\", url, headers=headers)"
      ],
      "metadata": {
        "id": "xdYetYf4wNN_"
      },
      "execution_count": 33,
      "outputs": []
    },
    {
      "cell_type": "code",
      "source": [
        "cluster_info = json.loads(response.text)\n",
        "cluster_id=cluster_info['data'][0]['info']['id']\n",
        "#cluster_id"
      ],
      "metadata": {
        "id": "UROKms4jnfZ4"
      },
      "execution_count": 34,
      "outputs": []
    },
    {
      "cell_type": "code",
      "source": [
        "url = \"https://cloud.yugabyte.com/api/public/v1/accounts/\"+account_id+\"/projects/\"+project_id+\"/clusters/\"+cluster_id+\"/tables\"\n",
        "\n",
        "response = requests.request(\"GET\", url, headers=headers)"
      ],
      "metadata": {
        "id": "X2KHNh1A9xX4"
      },
      "execution_count": 35,
      "outputs": []
    },
    {
      "cell_type": "code",
      "source": [
        "table_list = json.loads(response.text)\n",
        "all_tables=table_list['data']\n",
        "df=pd.DataFrame(all_tables)"
      ],
      "metadata": {
        "id": "_oNWUf4C7SaX"
      },
      "execution_count": 36,
      "outputs": []
    },
    {
      "cell_type": "code",
      "source": [
        "df.head(5)"
      ],
      "metadata": {
        "colab": {
          "base_uri": "https://localhost:8080/",
          "height": 206
        },
        "id": "houpzeNDAaTj",
        "outputId": "d69af863-f903-45cd-9aee-e3e6b5398a3e"
      },
      "execution_count": 37,
      "outputs": [
        {
          "output_type": "execute_result",
          "data": {
            "text/plain": [
              "         name  keyspace  type  size_bytes  \\\n",
              "0      oorder  yugabyte  YSQL           0   \n",
              "1   warehouse  yugabyte  YSQL           0   \n",
              "2    district  yugabyte  YSQL           0   \n",
              "3        item  yugabyte  YSQL           0   \n",
              "4  order_line  yugabyte  YSQL           0   \n",
              "\n",
              "                                     id parent_id tablespace  \n",
              "0  000033e8-0000-3000-8000-000000004007      None       None  \n",
              "1  000033e8-0000-3000-8000-00000000401c      None       None  \n",
              "2  000033e8-0000-3000-8000-00000000400f      None       None  \n",
              "3  000033e8-0000-3000-8000-000000004016      None       None  \n",
              "4  000033e8-0000-3000-8000-00000000402d      None       None  "
            ],
            "text/html": [
              "\n",
              "  <div id=\"df-825d9376-d6a8-40bf-b427-11cbb41050fc\">\n",
              "    <div class=\"colab-df-container\">\n",
              "      <div>\n",
              "<style scoped>\n",
              "    .dataframe tbody tr th:only-of-type {\n",
              "        vertical-align: middle;\n",
              "    }\n",
              "\n",
              "    .dataframe tbody tr th {\n",
              "        vertical-align: top;\n",
              "    }\n",
              "\n",
              "    .dataframe thead th {\n",
              "        text-align: right;\n",
              "    }\n",
              "</style>\n",
              "<table border=\"1\" class=\"dataframe\">\n",
              "  <thead>\n",
              "    <tr style=\"text-align: right;\">\n",
              "      <th></th>\n",
              "      <th>name</th>\n",
              "      <th>keyspace</th>\n",
              "      <th>type</th>\n",
              "      <th>size_bytes</th>\n",
              "      <th>id</th>\n",
              "      <th>parent_id</th>\n",
              "      <th>tablespace</th>\n",
              "    </tr>\n",
              "  </thead>\n",
              "  <tbody>\n",
              "    <tr>\n",
              "      <th>0</th>\n",
              "      <td>oorder</td>\n",
              "      <td>yugabyte</td>\n",
              "      <td>YSQL</td>\n",
              "      <td>0</td>\n",
              "      <td>000033e8-0000-3000-8000-000000004007</td>\n",
              "      <td>None</td>\n",
              "      <td>None</td>\n",
              "    </tr>\n",
              "    <tr>\n",
              "      <th>1</th>\n",
              "      <td>warehouse</td>\n",
              "      <td>yugabyte</td>\n",
              "      <td>YSQL</td>\n",
              "      <td>0</td>\n",
              "      <td>000033e8-0000-3000-8000-00000000401c</td>\n",
              "      <td>None</td>\n",
              "      <td>None</td>\n",
              "    </tr>\n",
              "    <tr>\n",
              "      <th>2</th>\n",
              "      <td>district</td>\n",
              "      <td>yugabyte</td>\n",
              "      <td>YSQL</td>\n",
              "      <td>0</td>\n",
              "      <td>000033e8-0000-3000-8000-00000000400f</td>\n",
              "      <td>None</td>\n",
              "      <td>None</td>\n",
              "    </tr>\n",
              "    <tr>\n",
              "      <th>3</th>\n",
              "      <td>item</td>\n",
              "      <td>yugabyte</td>\n",
              "      <td>YSQL</td>\n",
              "      <td>0</td>\n",
              "      <td>000033e8-0000-3000-8000-000000004016</td>\n",
              "      <td>None</td>\n",
              "      <td>None</td>\n",
              "    </tr>\n",
              "    <tr>\n",
              "      <th>4</th>\n",
              "      <td>order_line</td>\n",
              "      <td>yugabyte</td>\n",
              "      <td>YSQL</td>\n",
              "      <td>0</td>\n",
              "      <td>000033e8-0000-3000-8000-00000000402d</td>\n",
              "      <td>None</td>\n",
              "      <td>None</td>\n",
              "    </tr>\n",
              "  </tbody>\n",
              "</table>\n",
              "</div>\n",
              "      <button class=\"colab-df-convert\" onclick=\"convertToInteractive('df-825d9376-d6a8-40bf-b427-11cbb41050fc')\"\n",
              "              title=\"Convert this dataframe to an interactive table.\"\n",
              "              style=\"display:none;\">\n",
              "        \n",
              "  <svg xmlns=\"http://www.w3.org/2000/svg\" height=\"24px\"viewBox=\"0 0 24 24\"\n",
              "       width=\"24px\">\n",
              "    <path d=\"M0 0h24v24H0V0z\" fill=\"none\"/>\n",
              "    <path d=\"M18.56 5.44l.94 2.06.94-2.06 2.06-.94-2.06-.94-.94-2.06-.94 2.06-2.06.94zm-11 1L8.5 8.5l.94-2.06 2.06-.94-2.06-.94L8.5 2.5l-.94 2.06-2.06.94zm10 10l.94 2.06.94-2.06 2.06-.94-2.06-.94-.94-2.06-.94 2.06-2.06.94z\"/><path d=\"M17.41 7.96l-1.37-1.37c-.4-.4-.92-.59-1.43-.59-.52 0-1.04.2-1.43.59L10.3 9.45l-7.72 7.72c-.78.78-.78 2.05 0 2.83L4 21.41c.39.39.9.59 1.41.59.51 0 1.02-.2 1.41-.59l7.78-7.78 2.81-2.81c.8-.78.8-2.07 0-2.86zM5.41 20L4 18.59l7.72-7.72 1.47 1.35L5.41 20z\"/>\n",
              "  </svg>\n",
              "      </button>\n",
              "      \n",
              "  <style>\n",
              "    .colab-df-container {\n",
              "      display:flex;\n",
              "      flex-wrap:wrap;\n",
              "      gap: 12px;\n",
              "    }\n",
              "\n",
              "    .colab-df-convert {\n",
              "      background-color: #E8F0FE;\n",
              "      border: none;\n",
              "      border-radius: 50%;\n",
              "      cursor: pointer;\n",
              "      display: none;\n",
              "      fill: #1967D2;\n",
              "      height: 32px;\n",
              "      padding: 0 0 0 0;\n",
              "      width: 32px;\n",
              "    }\n",
              "\n",
              "    .colab-df-convert:hover {\n",
              "      background-color: #E2EBFA;\n",
              "      box-shadow: 0px 1px 2px rgba(60, 64, 67, 0.3), 0px 1px 3px 1px rgba(60, 64, 67, 0.15);\n",
              "      fill: #174EA6;\n",
              "    }\n",
              "\n",
              "    [theme=dark] .colab-df-convert {\n",
              "      background-color: #3B4455;\n",
              "      fill: #D2E3FC;\n",
              "    }\n",
              "\n",
              "    [theme=dark] .colab-df-convert:hover {\n",
              "      background-color: #434B5C;\n",
              "      box-shadow: 0px 1px 3px 1px rgba(0, 0, 0, 0.15);\n",
              "      filter: drop-shadow(0px 1px 2px rgba(0, 0, 0, 0.3));\n",
              "      fill: #FFFFFF;\n",
              "    }\n",
              "  </style>\n",
              "\n",
              "      <script>\n",
              "        const buttonEl =\n",
              "          document.querySelector('#df-825d9376-d6a8-40bf-b427-11cbb41050fc button.colab-df-convert');\n",
              "        buttonEl.style.display =\n",
              "          google.colab.kernel.accessAllowed ? 'block' : 'none';\n",
              "\n",
              "        async function convertToInteractive(key) {\n",
              "          const element = document.querySelector('#df-825d9376-d6a8-40bf-b427-11cbb41050fc');\n",
              "          const dataTable =\n",
              "            await google.colab.kernel.invokeFunction('convertToInteractive',\n",
              "                                                     [key], {});\n",
              "          if (!dataTable) return;\n",
              "\n",
              "          const docLinkHtml = 'Like what you see? Visit the ' +\n",
              "            '<a target=\"_blank\" href=https://colab.research.google.com/notebooks/data_table.ipynb>data table notebook</a>'\n",
              "            + ' to learn more about interactive tables.';\n",
              "          element.innerHTML = '';\n",
              "          dataTable['output_type'] = 'display_data';\n",
              "          await google.colab.output.renderOutput(dataTable, element);\n",
              "          const docLink = document.createElement('div');\n",
              "          docLink.innerHTML = docLinkHtml;\n",
              "          element.appendChild(docLink);\n",
              "        }\n",
              "      </script>\n",
              "    </div>\n",
              "  </div>\n",
              "  "
            ]
          },
          "metadata": {},
          "execution_count": 37
        }
      ]
    },
    {
      "cell_type": "code",
      "source": [],
      "metadata": {
        "id": "jQy8NwW8IuKs"
      },
      "execution_count": null,
      "outputs": []
    }
  ]
}