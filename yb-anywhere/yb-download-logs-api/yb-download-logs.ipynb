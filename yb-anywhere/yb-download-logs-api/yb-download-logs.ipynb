{
 "cells": [
  {
   "cell_type": "markdown",
   "metadata": {},
   "source": [
    "# Download the logs from nodes using API. \n",
    "\n",
    "This program can ONLY download the current logs i.e. yb-tserver.INFO and yb-master.INFO ( Not the old logs)\n",
    "\n",
    "Execute t"
   ]
  },
  {
   "cell_type": "code",
   "execution_count": 64,
   "metadata": {},
   "outputs": [],
   "source": [
    "# Modules whcih are required for to run this program\n",
    "# This program is written and tested on :\n",
    "# Python 2.7.18\n",
    "# YB Anywhere 2.14\n",
    "\n",
    "#import http.client (For python3)\n",
    "import httplib \n",
    "import requests"
   ]
  },
  {
   "cell_type": "code",
   "execution_count": 65,
   "metadata": {},
   "outputs": [],
   "source": [
    "#Define Variables\n",
    "\n",
    "# YB Anywhere platform IP Address\n",
    "yb_platform_addr=\"10.9.123.49\"\n",
    "\n",
    "# Replace Customer UUID\n",
    "cUUID=\"3a69de7a-f74e-4124-adcd-de19484006da\"\n",
    "\n",
    "#Replace Universe UUID\n",
    "uniUUID=\"29705a22-c0e6-40cf-a446-65d2ed8d347b\"\n",
    "\n",
    "yb_user_token=\" << Replace Token >> \"\n",
    "\n",
    "#Define Variables for connecting to YB Database\n",
    "\n",
    "yb_node_name=['yb-dev-univ2-n1','yb-dev-univ2-n2','yb-dev-univ2-n3']"
   ]
  },
  {
   "cell_type": "code",
   "execution_count": 66,
   "metadata": {},
   "outputs": [],
   "source": [
    "headers = {\n",
    "    'Content-Type': \"application/json\",\n",
    "    'X-AUTH-YW-API-TOKEN': yb_user_token\n",
    "    }"
   ]
  },
  {
   "cell_type": "code",
   "execution_count": 68,
   "metadata": {},
   "outputs": [
    {
     "name": "stdout",
     "output_type": "stream",
     "text": [
      "Logs download location\n",
      "/Users/kapilmaheshwari/Documents/Self/Yugabyte/logs\n"
     ]
    }
   ],
   "source": [
    "print (\"Logs download location\")\n",
    "!pwd"
   ]
  },
  {
   "cell_type": "markdown",
   "metadata": {},
   "source": [
    "We will use download_logs API for downloading logs. Details of the API can be found at following link:\n",
    "\n",
    "https://api-docs.yugabyte.com/docs/yugabyte-platform/bb3bff7432828-download-a-node-s-logs"
   ]
  },
  {
   "cell_type": "code",
   "execution_count": 69,
   "metadata": {},
   "outputs": [],
   "source": [
    "for node_name in yb_node_name:\n",
    "    url=\"http://\"+yb_platform_addr+\"/api/v1/customers/\"+cUUID+\"/universes/\"+uniUUID+\"/\"+node_name+\"/download_logs\"\n",
    "    res=requests.get(url, headers=headers)\n",
    "    open(res.headers['Content-Disposition'].split(\"filename=\",1)[1], \"wb\").write(res.content)"
   ]
  },
  {
   "cell_type": "code",
   "execution_count": 70,
   "metadata": {},
   "outputs": [
    {
     "name": "stdout",
     "output_type": "stream",
     "text": [
      "total 320\n",
      "-rw-r--r--  1 kapilmaheshwari  staff  59394 Sep 10 19:18 10.9.106.39-logs.tar.gz\n",
      "-rw-r--r--  1 kapilmaheshwari  staff  51876 Sep 10 19:18 10.9.115.144-logs.tar.gz\n",
      "-rw-r--r--  1 kapilmaheshwari  staff  48448 Sep 10 19:18 10.9.84.129-logs.tar.gz\n"
     ]
    }
   ],
   "source": [
    "!ls -l "
   ]
  },
  {
   "cell_type": "code",
   "execution_count": null,
   "metadata": {},
   "outputs": [],
   "source": []
  }
 ],
 "metadata": {
  "kernelspec": {
   "display_name": "Python 2",
   "language": "python",
   "name": "python2"
  },
  "language_info": {
   "codemirror_mode": {
    "name": "ipython",
    "version": 2
   },
   "file_extension": ".py",
   "mimetype": "text/x-python",
   "name": "python",
   "nbconvert_exporter": "python",
   "pygments_lexer": "ipython2",
   "version": "2.7.18"
  }
 },
 "nbformat": 4,
 "nbformat_minor": 2
}
